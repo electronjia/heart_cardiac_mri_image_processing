{
 "cells": [
  {
   "cell_type": "markdown",
   "metadata": {},
   "source": [
    "Loading in Patient Data for one patient"
   ]
  },
  {
   "cell_type": "code",
   "execution_count": 11,
   "metadata": {},
   "outputs": [
    {
     "ename": "SyntaxError",
     "evalue": "invalid syntax (1052687571.py, line 2)",
     "output_type": "error",
     "traceback": [
      "\u001b[1;36m  Cell \u001b[1;32mIn[11], line 2\u001b[1;36m\u001b[0m\n\u001b[1;33m    pip install numpy\u001b[0m\n\u001b[1;37m        ^\u001b[0m\n\u001b[1;31mSyntaxError\u001b[0m\u001b[1;31m:\u001b[0m invalid syntax\n"
     ]
    }
   ],
   "source": [
    "# pip install pydicom\n",
    "pip install numpy"
   ]
  },
  {
   "cell_type": "code",
   "execution_count": null,
   "metadata": {},
   "outputs": [
    {
     "ename": "SyntaxError",
     "evalue": "(unicode error) 'unicodeescape' codec can't decode bytes in position 2-3: truncated \\UXXXXXXXX escape (4055393029.py, line 24)",
     "output_type": "error",
     "traceback": [
      "\u001b[1;36m  Cell \u001b[1;32mIn[14], line 24\u001b[1;36m\u001b[0m\n\u001b[1;33m    folder_path = \"C:\\Users\\Kaiwen Liu\\OneDrive - University of Toronto\\Desktop\\github_repo\\heart_cardiac_mri_image_processing\\data\\SCD_IMAGES_01\\SCD0000101\\CINESAX_300\"\u001b[0m\n\u001b[1;37m                  ^\u001b[0m\n\u001b[1;31mSyntaxError\u001b[0m\u001b[1;31m:\u001b[0m (unicode error) 'unicodeescape' codec can't decode bytes in position 2-3: truncated \\UXXXXXXXX escape\n"
     ]
    }
   ],
   "source": [
    "import pydicom\n",
    "import numpy as np\n",
    "import os\n",
    "\n",
    "def load_dicom_series(folder_path):\n",
    "    dicom_files = [pydicom.dcmread(os.path.join(folder_path, f))\n",
    "                   for f in sorted(os.listdir(folder_path))\n",
    "                   if f.endswith('.dcm')]\n",
    "\n",
    "    # Sort files by slice location (if available)\n",
    "    dicom_files.sort(key=lambda x: float(x.ImagePositionPatient[2]))\n",
    "\n",
    "    # Stack slices to create a 3D volume\n",
    "    volume = np.stack([file.pixel_array for file in dicom_files])\n",
    "\n",
    "    # Get voxel spacing\n",
    "    slice_thickness = float(dicom_files[0].SliceThickness)\n",
    "    pixel_spacing = dicom_files[0].PixelSpacing\n",
    "\n",
    "    spacing = (slice_thickness, pixel_spacing[0], pixel_spacing[1])\n",
    "\n",
    "    return volume, spacing\n",
    "\n",
    "folder_path = \"C:\\Users\\Kaiwen Liu\\OneDrive - University of Toronto\\Desktop\\github_repo\\heart_cardiac_mri_image_processing\\data\\SCD_IMAGES_01\\SCD0000101\\CINESAX_300\"\n",
    "volume, spacing = load_dicom_series(folder_path)\n",
    "\n",
    "print(f\"Volume shape: {volume.shape}\")\n",
    "print(f\"Voxel spacing: {spacing}\")\n"
   ]
  },
  {
   "cell_type": "code",
   "execution_count": 10,
   "metadata": {},
   "outputs": [
    {
     "ename": "ModuleNotFoundError",
     "evalue": "No module named 'numpy'",
     "output_type": "error",
     "traceback": [
      "\u001b[1;31m---------------------------------------------------------------------------\u001b[0m",
      "\u001b[1;31mModuleNotFoundError\u001b[0m                       Traceback (most recent call last)",
      "Cell \u001b[1;32mIn[10], line 2\u001b[0m\n\u001b[0;32m      1\u001b[0m \u001b[38;5;28;01mimport\u001b[39;00m \u001b[38;5;21;01mpydicom\u001b[39;00m\n\u001b[1;32m----> 2\u001b[0m \u001b[38;5;28;01mimport\u001b[39;00m \u001b[38;5;21;01mnumpy\u001b[39;00m \u001b[38;5;28;01mas\u001b[39;00m \u001b[38;5;21;01mnp\u001b[39;00m\n\u001b[0;32m      3\u001b[0m \u001b[38;5;28;01mimport\u001b[39;00m \u001b[38;5;21;01mos\u001b[39;00m\n\u001b[0;32m      5\u001b[0m \u001b[38;5;28;01mdef\u001b[39;00m \u001b[38;5;21mload_dicom_series\u001b[39m(folder_path):\n",
      "\u001b[1;31mModuleNotFoundError\u001b[0m: No module named 'numpy'"
     ]
    }
   ],
   "source": [
    "import pydicom\n",
    "import numpy as np\n",
    "import os\n",
    "\n",
    "def load_dicom_series(folder_path):\n",
    "    dicom_files = [pydicom.dcmread(os.path.join(folder_path, f))\n",
    "                   for f in sorted(os.listdir(folder_path))\n",
    "                   if f.endswith('.dcm')]\n",
    "\n",
    "    # Sort files by slice location (if available)\n",
    "    dicom_files.sort(key=lambda x: float(x.ImagePositionPatient[2]))\n",
    "\n",
    "    # Stack slices to create a 3D volume\n",
    "    volume = np.stack([file.pixel_array for file in dicom_files])\n",
    "\n",
    "    # Get voxel spacing\n",
    "    slice_thickness = float(dicom_files[0].SliceThickness)\n",
    "    pixel_spacing = dicom_files[0].PixelSpacing\n",
    "\n",
    "    spacing = (slice_thickness, pixel_spacing[0], pixel_spacing[1])\n",
    "\n",
    "    return volume, spacing\n",
    "\n",
    "folder_path = r\"C:\\Users\\Kaiwen Liu\\OneDrive - University of Toronto\\Desktop\\github_repo\\heart_cardiac_mri_image_processing\\data\\SCD_IMAGES_01\\SCD0000101\\CINESAX_300\"\n",
    "volume, spacing = load_dicom_series(folder_path)\n",
    "\n",
    "print(f\"Volume shape: {volume.shape}\")\n",
    "print(f\"Voxel spacing: {spacing}\")\n"
   ]
  },
  {
   "cell_type": "code",
   "execution_count": 13,
   "metadata": {},
   "outputs": [
    {
     "ename": "ModuleNotFoundError",
     "evalue": "No module named 'matplotlib'",
     "output_type": "error",
     "traceback": [
      "\u001b[1;31m---------------------------------------------------------------------------\u001b[0m",
      "\u001b[1;31mModuleNotFoundError\u001b[0m                       Traceback (most recent call last)",
      "Cell \u001b[1;32mIn[13], line 1\u001b[0m\n\u001b[1;32m----> 1\u001b[0m \u001b[38;5;28;01mimport\u001b[39;00m \u001b[38;5;21;01mmatplotlib\u001b[39;00m\u001b[38;5;21;01m.\u001b[39;00m\u001b[38;5;21;01mpyplot\u001b[39;00m \u001b[38;5;28;01mas\u001b[39;00m \u001b[38;5;21;01mplt\u001b[39;00m\n\u001b[0;32m      2\u001b[0m \u001b[38;5;28;01mimport\u001b[39;00m \u001b[38;5;21;01mnumpy\u001b[39;00m \u001b[38;5;28;01mas\u001b[39;00m \u001b[38;5;21;01mnp\u001b[39;00m\n\u001b[0;32m      4\u001b[0m \u001b[38;5;28;01mdef\u001b[39;00m \u001b[38;5;21mshow_slices\u001b[39m(volume, increment\u001b[38;5;241m=\u001b[39m\u001b[38;5;241m5\u001b[39m, cmap\u001b[38;5;241m=\u001b[39m\u001b[38;5;124m'\u001b[39m\u001b[38;5;124mgray\u001b[39m\u001b[38;5;124m'\u001b[39m):\n",
      "\u001b[1;31mModuleNotFoundError\u001b[0m: No module named 'matplotlib'"
     ]
    }
   ],
   "source": [
    "import matplotlib.pyplot as plt\n",
    "import numpy as np\n",
    "\n",
    "def show_slices(volume, increment=5, cmap='gray'):\n",
    "    \"\"\"\n",
    "    Displays slices of a 3D volume at a given increment.\n",
    "    \n",
    "    Parameters:\n",
    "    - volume (numpy array): 3D medical image data (depth, height, width)\n",
    "    - increment (int): Step size for displaying slices (default = 5)\n",
    "    - cmap (str): Colormap for visualization (default = 'gray')\n",
    "    \"\"\"\n",
    "\n",
    "    num_slices = volume.shape[0]  # Number of slices in the volume\n",
    "    slice_indices = range(0, num_slices, increment)  # Get slice indices at the given increment\n",
    "\n",
    "    fig, axes = plt.subplots(1, len(slice_indices), figsize=(15, 5))  # Create subplots\n",
    "\n",
    "    if len(slice_indices) == 1:  # Handle case where only one slice is displayed\n",
    "        axes = [axes]\n",
    "\n",
    "    for ax, idx in zip(axes, slice_indices):\n",
    "        ax.imshow(volume[idx], cmap=cmap)\n",
    "        ax.set_title(f\"Slice {idx + 1}/{num_slices}\")\n",
    "        ax.axis(\"off\")\n",
    "\n",
    "    plt.suptitle(f\"Showing every {increment} slices\")\n",
    "    plt.tight_layout()\n",
    "    plt.show()\n"
   ]
  }
 ],
 "metadata": {
  "kernelspec": {
   "display_name": "Python 3",
   "language": "python",
   "name": "python3"
  },
  "language_info": {
   "codemirror_mode": {
    "name": "ipython",
    "version": 3
   },
   "file_extension": ".py",
   "mimetype": "text/x-python",
   "name": "python",
   "nbconvert_exporter": "python",
   "pygments_lexer": "ipython3",
   "version": "3.12.6"
  }
 },
 "nbformat": 4,
 "nbformat_minor": 2
}
