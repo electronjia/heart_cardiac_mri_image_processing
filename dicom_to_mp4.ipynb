{
 "cells": [
  {
   "cell_type": "code",
   "execution_count": 6,
   "id": "dfe89d65-6b1f-4e89-888d-cc6fda01ee33",
   "metadata": {},
   "outputs": [
    {
     "name": "stdout",
     "output_type": "stream",
     "text": [
      "Path to dataset files: C:\\Users\\Kaiwen Liu\\.cache\\kagglehub\\datasets\\salikhussaini49\\sunnybrook-cardiac-mri\\versions\\1\n"
     ]
    }
   ],
   "source": [
    "import os\n",
    "import kagglehub\n",
    "import pydicom\n",
    "import matplotlib.pyplot as plt\n",
    "from matplotlib.animation import FuncAnimation, FFMpegWriter\n",
    "import matplotlib.animation as animation\n",
    "\n",
    "# Download latest version\n",
    "path = kagglehub.dataset_download(\"salikhussaini49/sunnybrook-cardiac-mri\")\n",
    "\n",
    "print(\"Path to dataset files:\", path)\n"
   ]
  },
  {
   "cell_type": "code",
   "execution_count": 7,
   "id": "3cd51172-008e-46a6-8e83-4d5ece88f0c2",
   "metadata": {},
   "outputs": [
    {
     "name": "stdout",
     "output_type": "stream",
     "text": [
      "['C:\\\\Users\\\\Kaiwen Liu\\\\.cache\\\\kagglehub\\\\datasets\\\\salikhussaini49\\\\sunnybrook-cardiac-mri\\\\versions\\\\1\\\\SunnyBrook-Cardiac-MR']\n"
     ]
    }
   ],
   "source": [
    "folders_inside_main = [os.path.join(path, folder) for folder in os.listdir(path) if os.path.isdir(os.path.join(path, folder))]\n",
    "print(folders_inside_main)"
   ]
  },
  {
   "cell_type": "code",
   "execution_count": 10,
   "id": "21169f42-a0d3-4291-8637-7eff8f55172e",
   "metadata": {},
   "outputs": [
    {
     "name": "stdout",
     "output_type": "stream",
     "text": [
      "✅ Total DICOM files found: 232\n",
      "Example file: C:\\Users\\Kaiwen Liu\\.cache\\kagglehub\\datasets\\salikhussaini49\\sunnybrook-cardiac-mri\\versions\\1\\SunnyBrook-Cardiac-MR\\SCD2001_000\\SCD2001_MR_201.dcm\n"
     ]
    }
   ],
   "source": [
    "# Function to recursively find all DICOM files\n",
    "def find_dicom_files(root_dir):\n",
    "    dicom_files = []\n",
    "    for dirpath, _, filenames in os.walk(root_dir):  # Walk through all directories\n",
    "        for file in filenames:\n",
    "            if file.endswith(\".dcm\"):\n",
    "                dicom_files.append(os.path.join(dirpath, file))\n",
    "    return dicom_files\n",
    "\n",
    "# Retrieve all DICOM files\n",
    "img_paths_list = find_dicom_files(path)\n",
    "\n",
    "# Debugging output to confirm file discovery\n",
    "print(f\"✅ Total DICOM files found: {len(img_paths_list)}\")\n",
    "if len(img_paths_list) > 0:\n",
    "    print(f\"Example file: {img_paths_list[0]}\")"
   ]
  },
  {
   "cell_type": "code",
   "execution_count": 12,
   "id": "8693b462-7841-4b05-8a7e-2a238f73238a",
   "metadata": {},
   "outputs": [
    {
     "name": "stdout",
     "output_type": "stream",
     "text": [
      "🎥 Video saved as: all_dicom_combined.mp4\n"
     ]
    }
   ],
   "source": [
    "# Load DICOM images\n",
    "dicom_images = []\n",
    "for img_path in sorted(img_paths_list):\n",
    "    try:\n",
    "        dicom_data = pydicom.dcmread(img_path)\n",
    "        dicom_images.append(dicom_data.pixel_array)\n",
    "    except Exception as e:\n",
    "        print(f\"⚠️ Skipping {img_path} due to error: {e}\")\n",
    "        \n",
    "# Create an MP4 animation\n",
    "def create_dicom_video(images, output_filename=\"combined_dicom_video.mp4\", fps=2):\n",
    "    if not images:\n",
    "        print(\"❌ No DICOM images to process.\")\n",
    "        return\n",
    "\n",
    "    fig, ax = plt.subplots()\n",
    "    img_display = ax.imshow(images[0], cmap=\"gray\")\n",
    "    ax.axis(\"off\")\n",
    "\n",
    "    # Update function for animation\n",
    "    def update(frame):\n",
    "        img_display.set_data(images[frame])\n",
    "        ax.set_title(f\"Frame {frame + 1} of {len(images)}\")\n",
    "\n",
    "    ani = animation.FuncAnimation(\n",
    "        fig, update, frames=len(images), interval=500  # 500 ms delay = 2 FPS\n",
    "    )\n",
    "\n",
    "    # Save the animation as an MP4 file\n",
    "    ani.save(output_filename.replace(\".mp4\", \".gif\"), writer=\"pillow\", fps=fps)\n",
    "    plt.close(fig)\n",
    "    print(f\"🎥 Video saved as: {output_filename}\")\n",
    "\n",
    "# Generate the MP4 file\n",
    "create_dicom_video(dicom_images, output_filename=\"all_dicom_combined.mp4\", fps=20)"
   ]
  },
  {
   "cell_type": "code",
   "execution_count": 48,
   "id": "ef499a3c-55af-4543-a4fe-886aefeee3cc",
   "metadata": {},
   "outputs": [
    {
     "name": "stdout",
     "output_type": "stream",
     "text": [
      "C:\\Users\\Kaiwen Liu\\.cache\\kagglehub\\datasets\\salikhussaini49\\sunnybrook-cardiac-mri\\versions\\1\\SunnyBrook-Cardiac-MR\\SCD2001_009\\SCD2001_MR_031.dcm\n"
     ]
    }
   ],
   "source": [
    "print(img_paths_list[200])"
   ]
  },
  {
   "cell_type": "code",
   "execution_count": 53,
   "id": "6048a60f-80d2-4942-92d8-ea82328f62d2",
   "metadata": {},
   "outputs": [
    {
     "name": "stdout",
     "output_type": "stream",
     "text": [
      "SunnyBrook-Cardiac-MR\n",
      "SCD2001_000\n",
      "SCD2001_001\n",
      "SCD2001_002\n",
      "SCD2001_003\n",
      "SCD2001_004\n",
      "SCD2001_005\n",
      "SCD2001_006\n",
      "SCD2001_007\n",
      "SCD2001_008\n",
      "SCD2001_009\n",
      "SCD2001_010\n"
     ]
    }
   ],
   "source": [
    "# print(path)\n",
    "# os.listdir(path)\n",
    "# to store files in a list\n",
    "list = []\n",
    "\n",
    "# dirs=directories\n",
    "for (root, dirs, file) in os.walk(path):\n",
    "    for f in dirs:\n",
    "        print(f)"
   ]
  }
 ],
 "metadata": {
  "kernelspec": {
   "display_name": "Python 3 (ipykernel)",
   "language": "python",
   "name": "python3"
  },
  "language_info": {
   "codemirror_mode": {
    "name": "ipython",
    "version": 3
   },
   "file_extension": ".py",
   "mimetype": "text/x-python",
   "name": "python",
   "nbconvert_exporter": "python",
   "pygments_lexer": "ipython3",
   "version": "3.12.4"
  }
 },
 "nbformat": 4,
 "nbformat_minor": 5
}
