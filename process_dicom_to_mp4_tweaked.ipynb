{
 "cells": [
  {
   "cell_type": "markdown",
   "metadata": {},
   "source": [
    "Kaiwen provided the code to convert cine short axis dicom images to mp4 gif files. Mahri compiled all the data together, obtained gif files, and put all the necessary filepaths into scd_patientdata_xlsx excel file"
   ]
  },
  {
   "cell_type": "code",
   "execution_count": 2,
   "metadata": {},
   "outputs": [],
   "source": [
    "import os\n",
    "import pydicom\n",
    "import matplotlib.pyplot as plt\n",
    "from matplotlib.animation import FuncAnimation, FFMpegWriter\n",
    "import matplotlib.animation as animation\n",
    "import pandas as pd"
   ]
  },
  {
   "cell_type": "code",
   "execution_count": 3,
   "metadata": {},
   "outputs": [],
   "source": [
    "# User handle where the SCD_Images folders are located\n",
    "user_handle = r\"C:\\Users\\mkkad\\Desktop\\github_repos\\heart_cardiac_mri_image_processing\\data\"  "
   ]
  },
  {
   "cell_type": "code",
   "execution_count": 27,
   "metadata": {},
   "outputs": [],
   "source": [
    "# Define dataframe of patient data and cine short axis images filepath\n",
    "patient_data_excel_path = \"scd_patientdata_xlsx.xlsx\"\n",
    "patient_data = pd.read_excel(patient_data_excel_path)\n",
    "\n",
    "# Get the absolute filepath to cine short axis mri images for each patient\n",
    "abs_filepath = [os.path.join(user_handle, i) for i in patient_data['filepath'].tolist()]"
   ]
  },
  {
   "cell_type": "code",
   "execution_count": null,
   "metadata": {},
   "outputs": [],
   "source": [
    "# Obtain a dictionary where keys are patient filepaths and values of each key are dicom image filepaths\n",
    "patient_dicom_files = {}\n",
    "\n",
    "for filepath in abs_filepath:\n",
    "\n",
    "    dicom_files = [os.path.join(filepath, i) for i in os.listdir(filepath) if i.endswith(\".dcm\")]\n",
    "\n",
    "    patient_dicom_files[filepath] = dicom_files"
   ]
  },
  {
   "cell_type": "code",
   "execution_count": null,
   "metadata": {},
   "outputs": [],
   "source": [
    "# Create the gif given the dicom images list and output filepath with .gif extension\n",
    "def create_dicom_gif(images, output_filepath, fps=2):\n",
    "    if not images:\n",
    "        print(\"❌ No DICOM images to process.\")\n",
    "        return\n",
    "\n",
    "    fig, ax = plt.subplots()\n",
    "    img_display = ax.imshow(images[0], cmap=\"gray\")\n",
    "    ax.axis(\"off\")\n",
    "\n",
    "    # Update function for animation\n",
    "    def update(frame):\n",
    "        img_display.set_data(images[frame])\n",
    "        ax.set_title(f\"Frame {frame + 1} of {len(images)}\")\n",
    "\n",
    "    ani = animation.FuncAnimation(\n",
    "        fig, update, frames=len(images), interval=500  # 500 ms delay = 2 FPS\n",
    "    )\n",
    "\n",
    "    # Save the animation as an MP4 file\n",
    "    ani.save(output_filepath, writer=\"pillow\", fps=fps)\n",
    "    plt.close(fig)\n",
    "    print(f\"🎥 gif saved as: {output_filepath}\")"
   ]
  },
  {
   "cell_type": "code",
   "execution_count": null,
   "metadata": {},
   "outputs": [],
   "source": [
    "# Generate mp4 gif for every patient and save the gif in their folders\n",
    "gif_filepaths = []\n",
    "for idx, (patient, patient_files) in enumerate(patient_dicom_files.items()):\n",
    "\n",
    "\n",
    "    patient_gif_name = os.path.basename(os.path.dirname(patient)) + \"_gif.gif\"\n",
    "    patient_gif_filepath = os.path.join(os.path.dirname(patient), patient_gif_name)\n",
    "    \n",
    "    patient_gif_filepath_to_append = os.path.join(os.path.dirname(patient_data['filepath'].tolist()[idx]), patient_gif_name)\n",
    "\n",
    "    gif_filepaths.append(patient_gif_filepath_to_append)\n",
    "\n",
    "\n",
    "    patient_dicom_images = []\n",
    "    for img_path in sorted(patient_files):\n",
    "        try:\n",
    "            dicom_data = pydicom.dcmread(img_path)\n",
    "            patient_dicom_images.append(dicom_data.pixel_array)\n",
    "        except Exception as e:\n",
    "            print(f\"⚠️ Skipping {img_path} due to error: {e}\")\n",
    "    \n",
    "    create_dicom_gif(patient_dicom_images, output_filepath=patient_gif_filepath, fps=20)\n",
    "    "
   ]
  },
  {
   "cell_type": "code",
   "execution_count": null,
   "metadata": {},
   "outputs": [],
   "source": [
    "# Write into dataframe and save it as excel file\n",
    "patient_data['gif_filepath'] = gif_filepaths\n",
    "patient_data\n",
    "patient_data.to_excel(patient_data_excel_path, index=False)"
   ]
  },
  {
   "cell_type": "markdown",
   "metadata": {},
   "source": [
    "Create a sheet inside the main excel file with patient data called patient_filepaths that will record patient id and dicom image filepaths"
   ]
  },
  {
   "cell_type": "code",
   "execution_count": null,
   "metadata": {},
   "outputs": [],
   "source": [
    "# Obtain all the dicom image filepaths for every patient and save it as a new sheet called \"patient_filepaths\" inside the excel file called scd_patientdata_xlsx\n",
    "patient_cropped_dicom_filepaths = []\n",
    "sheet_name = \"patient_filepaths\"\n",
    "patient_id = patient_data['patient_id'].tolist()\n",
    "cropped_filepaths = patient_data['filepath'].tolist()\n",
    "\n",
    "for patient, filepath, cropped_filepath in zip(patient_id, abs_filepath, cropped_filepaths):\n",
    "\n",
    "    dicom_files = [i for i in os.listdir(filepath) if i.endswith(\".dcm\")]\n",
    "    dicom_filenames = [ os.path.basename(x) for x in dicom_files]\n",
    "\n",
    "    dicom_cropped_filepath = [os.path.join(cropped_filepath, y) for y in dicom_filenames]\n",
    "\n",
    "    # print(f\"Patient is {patient} and the dicom images are{dicom_cropped_filepath} \\n\\n\")\n",
    "\n",
    "    for single_dicom_cropped_filepath in dicom_cropped_filepath:\n",
    "        patient_cropped_dicom_filepaths.append({\"patient_id\":patient, \"dcm_image_filepath\":single_dicom_cropped_filepath})\n",
    "\n",
    "\n",
    "df = pd.DataFrame(patient_cropped_dicom_filepaths)\n",
    "\n",
    "\n",
    "try:\n",
    "    with pd.ExcelWriter(patient_data_excel_path, mode=\"a\", if_sheet_exists=\"replace\") as writer:\n",
    "        df.to_excel(writer, sheet_name=\"patient_filepaths\", index=False)\n",
    "except FileNotFoundError:\n",
    "    with pd.ExcelWriter(patient_data_excel_path, mode=\"w\") as writer:\n",
    "        df.to_excel(writer, sheet_name=\"patient_filepaths\", index=False)"
   ]
  },
  {
   "cell_type": "code",
   "execution_count": null,
   "metadata": {},
   "outputs": [],
   "source": []
  },
  {
   "cell_type": "code",
   "execution_count": null,
   "metadata": {},
   "outputs": [],
   "source": []
  }
 ],
 "metadata": {
  "kernelspec": {
   "display_name": "mri-image-processing",
   "language": "python",
   "name": "python3"
  },
  "language_info": {
   "codemirror_mode": {
    "name": "ipython",
    "version": 3
   },
   "file_extension": ".py",
   "mimetype": "text/x-python",
   "name": "python",
   "nbconvert_exporter": "python",
   "pygments_lexer": "ipython3",
   "version": "3.9.21"
  }
 },
 "nbformat": 4,
 "nbformat_minor": 2
}
