{
  "cells": [
    {
      "cell_type": "markdown",
      "metadata": {
        "id": "-wW-yQErGpkO"
      },
      "source": [
        "#### Mahri\n"
      ]
    },
    {
      "cell_type": "code",
      "execution_count": null,
      "metadata": {
        "id": "VQ2XxdWxGpkZ"
      },
      "outputs": [],
      "source": [
        "# # On g collab only\n",
        "# !git clone https://github.com/electronjia/heart_cardiac_mri_image_processing.git"
      ]
    },
    {
      "cell_type": "code",
      "execution_count": null,
      "metadata": {
        "id": "_-ykjqJAGpke"
      },
      "outputs": [],
      "source": [
        "# # On g collab only\n",
        "# !pip install pydicom"
      ]
    },
    {
      "cell_type": "code",
      "execution_count": null,
      "metadata": {
        "id": "broJHEqYGpkg"
      },
      "outputs": [],
      "source": [
        "# # On g collab only\n",
        "# !pwd\n",
        "# !ls -l\n",
        "# %cd heart_cardiac_mri_image_processing/edge_detection_and_contours\n",
        "# !pwd"
      ]
    },
    {
      "cell_type": "code",
      "execution_count": null,
      "metadata": {
        "id": "82BmeAMTGpki"
      },
      "outputs": [],
      "source": [
        "import pandas as pd\n",
        "from config import *\n",
        "import os\n",
        "import numpy as np\n",
        "from skimage import exposure, filters, measure, segmentation\n",
        "import matplotlib.pyplot as plt\n",
        "import pydicom\n",
        "from skimage import img_as_ubyte\n",
        "from skimage.feature import canny\n",
        "from skimage.measure import label, regionprops\n",
        "from IPython.display import display\n",
        "from skimage.draw import polygon\n",
        "from skimage.morphology import convex_hull_image\n"
      ]
    },
    {
      "cell_type": "code",
      "execution_count": null,
      "metadata": {
        "id": "O0lHINkNGpkj"
      },
      "outputs": [],
      "source": [
        "# # On g collab only\n",
        "# import sys\n",
        "# sys.path.append('/content/heart_cardiac_mri_image_processing/edge_detection_and_contours')\n",
        "# user_handle = r\"/content/heart_cardiac_mri_image_processing/data\"\n",
        "# patient_data_excel_path = r\"/content/heart_cardiac_mri_image_processing/scd_patientdata_xlsx.xlsx\"\n",
        "# patient_data = \"patient_data\"\n",
        "# patient_filepaths = \"patient_filepaths\"\n",
        "\n",
        "# user_handle = \"/content/heart_cardiac_mri_image_processing/data\""
      ]
    },
    {
      "cell_type": "code",
      "execution_count": null,
      "metadata": {
        "id": "UCpHeoyWGpkn"
      },
      "outputs": [],
      "source": [
        "patient_xlsx = patient_data_excel_path\n",
        "patient_data_df = pd.read_excel(patient_xlsx, sheet_name=patient_data)\n",
        "patient_filepaths_df = pd.read_excel(patient_xlsx, sheet_name=patient_filepaths)\n",
        "patient_mask_filepaths = pd.read_excel(patient_xlsx, sheet_name=\"mask_filepaths\")\n",
        "\n",
        "display(patient_data_df.head(2))\n",
        "display(patient_filepaths_df.head(2))"
      ]
    },
    {
      "cell_type": "code",
      "execution_count": null,
      "metadata": {
        "id": "lw7hITBKGpkq"
      },
      "outputs": [],
      "source": [
        "def read_convert_dicom_img(filepath):\n",
        "    # Read the DICOM image\n",
        "    dicom_img = pydicom.dcmread(filepath)\n",
        "\n",
        "    # Extract the pixel data and convert to 8-bit image\n",
        "    img = img_as_ubyte(dicom_img.pixel_array / np.max(dicom_img.pixel_array))\n",
        "    return img"
      ]
    },
    {
      "cell_type": "code",
      "execution_count": null,
      "metadata": {
        "id": "Q-pYDJQPGpks"
      },
      "outputs": [],
      "source": [
        "def apply_contrast_enhancement(img, clip_limit):\n",
        "    # Apply contrast\n",
        "    img_contrast = exposure.equalize_adapthist(img, clip_limit=clip_limit)\n",
        "\n",
        "    # Create radial mask for center contrast enhancement\n",
        "    # Create a grid of distances from the center\n",
        "    rows, cols = img_contrast.shape\n",
        "    center_row, center_col = rows//2, cols//2\n",
        "\n",
        "    # Create radial distance map\n",
        "    y, x = np.ogrid[:rows, :cols]\n",
        "    distance_from_center = np.sqrt((x - center_col)**2 + (y - center_row)**2)\n",
        "\n",
        "    # Normalize distance to range [0, 1]\n",
        "    distance_from_center = distance_from_center / np.max(distance_from_center)\n",
        "\n",
        "    # Apply the mask (higher values in the center)\n",
        "    radial_mask = 1 - distance_from_center  # Invert to get higher values at the center\n",
        "    enhanced_contrast_img = img_contrast * radial_mask\n",
        "\n",
        "    return enhanced_contrast_img"
      ]
    },
    {
      "cell_type": "code",
      "execution_count": null,
      "metadata": {
        "id": "kFDv4cozGpks"
      },
      "outputs": [],
      "source": [
        "def detect_edges_and_contours(img, sigma, level):\n",
        "    # Edge detection\n",
        "    img_edges = canny(img, sigma=sigma)\n",
        "\n",
        "    # Find and draw contours\n",
        "    contours = measure.find_contours(img_edges, level=level)\n",
        "\n",
        "    # Create a binary mask with contours\n",
        "    binary_mask = np.zeros_like(img, dtype=np.uint8)\n",
        "    for contour in contours:\n",
        "        # Convert contour to polygon coordinates and fill it in the binary image\n",
        "        contour_points = contour.astype(int)\n",
        "        rr, cc = polygon(contour_points[:, 0], contour_points[:, 1], shape=binary_mask.shape)\n",
        "        binary_mask[rr, cc] = 255  # Set contour area to foreground (255)\n",
        "\n",
        "    return img_edges, contours, binary_mask"
      ]
    },
    {
      "cell_type": "code",
      "execution_count": null,
      "metadata": {
        "id": "Uylc0fCIGpkt"
      },
      "outputs": [],
      "source": [
        "def get_labels_regions(binary_mask):\n",
        "    # Find the labels in binary mask\n",
        "    labeled_img, _ = measure.label(binary_mask, connectivity=2, return_num=True)\n",
        "\n",
        "    # Measure region properties\n",
        "    regions = measure.regionprops(labeled_img)\n",
        "\n",
        "    return labeled_img, regions"
      ]
    },
    {
      "cell_type": "code",
      "execution_count": null,
      "metadata": {
        "id": "W77vA62HGpku"
      },
      "outputs": [],
      "source": [
        "def segment_left_ventricle(filepath, labeled_img, regions, mask_info_dict, img_idx, seed_starter, eccentricity_th, area_th, distance_th):\n",
        "\n",
        "  # Find best region depending on previous best region or\n",
        "  min_distance = float('inf')\n",
        "  best_region = None\n",
        "\n",
        "  # Attempt to get the best region by comparing to previous region if exists, if not, use seed starter\n",
        "  for prop in regions:\n",
        "\n",
        "      # Use the set seed starter\n",
        "      previous_centroid = np.array(seed_starter)\n",
        "      current_centroid = np.array(prop.centroid)\n",
        "      distance = np.linalg.norm(current_centroid - previous_centroid)  # Euclidean distance\n",
        "\n",
        "      if distance < min_distance:\n",
        "        min_distance = distance\n",
        "        best_region = prop\n",
        "\n",
        "\n",
        "  # Attempt to evaluate the best region's eccentricity and area according to set thresholds\n",
        "  try:\n",
        "    if best_region.eccentricity < eccentricity_th and best_region.area < area_th and min_distance < distance_th:\n",
        "      filled_mask = get_convex_hull_mask(labeled_img, best_region)\n",
        "    else:\n",
        "      filled_mask = np.zeros_like(labeled_img, dtype=np.uint8)\n",
        "\n",
        "    # Append the dictionary info\n",
        "    mask_info_dict[\"index\"].append(img_idx)\n",
        "    mask_info_dict[\"frames\"].append(filepath)\n",
        "    mask_info_dict[\"eccentricity\"].append(best_region.eccentricity)\n",
        "    mask_info_dict[\"area\"].append(best_region.area)\n",
        "    mask_info_dict[\"coords\"].append(best_region.coords)\n",
        "    mask_info_dict[\"centroid_coords\"].append(best_region.centroid)\n",
        "    mask_info_dict[\"distance_centroid\"].append(min_distance)\n",
        "    mask_info_dict['mask'].append(filled_mask)\n",
        "\n",
        "  except:\n",
        "    filled_mask = np.zeros_like(labeled_img, dtype=np.uint8)\n",
        "    # Append the dictionary info\n",
        "    mask_info_dict[\"index\"].append(img_idx)\n",
        "    mask_info_dict[\"frames\"].append(filepath)\n",
        "    mask_info_dict[\"eccentricity\"].append(0)\n",
        "    mask_info_dict[\"area\"].append(0)\n",
        "    mask_info_dict[\"coords\"].append(0)\n",
        "    mask_info_dict[\"centroid_coords\"].append((0,0))\n",
        "    mask_info_dict[\"distance_centroid\"].append(0)\n",
        "    mask_info_dict['mask'].append(filled_mask)\n",
        "\n",
        "\n",
        "  return filled_mask, mask_info_dict"
      ]
    },
    {
      "cell_type": "code",
      "execution_count": null,
      "metadata": {},
      "outputs": [],
      "source": [
        "def segment_left_ventricle_snakes(filepath, labeled_img, regions, mask_info_dict, img_idx, seed_starter, eccentricity_th, distance_th):\n",
        "\n",
        "  # Find best region depending on previous best region or\n",
        "  min_distance = float('inf')\n",
        "  best_region = None\n",
        "\n",
        "  # Attempt to get the best region by comparing to previous region if exists, if not, use seed starter\n",
        "  for prop in regions:\n",
        "      # print(f\"Region eccentricity: {prop.eccentricity}, area: {prop.area}\")\n",
        "\n",
        "      # Use the set seed starter\n",
        "      previous_centroid = np.array(seed_starter)\n",
        "      current_centroid = np.array(prop.centroid)\n",
        "      distance = np.linalg.norm(current_centroid - previous_centroid)  # Euclidean distance\n",
        "\n",
        "      if distance < min_distance:\n",
        "        min_distance = distance\n",
        "        best_region = prop\n",
        "\n",
        "  # Attempt to evaluate the best region's eccentricity and area according to set thresholds\n",
        "  try:\n",
        "    if best_region.eccentricity < eccentricity_th and min_distance < distance_th:\n",
        "      # print(f\"New region eccentricity {best_region.eccentricity:.3f} and area {best_region.area:.3f} and distance {min_distance}\")\n",
        "      filled_mask = get_filled_mask(labeled_img, best_region)\n",
        "    else:\n",
        "      filled_mask = np.zeros_like(labeled_img, dtype=np.uint8)\n",
        "\n",
        "    # Append the dictionary info\n",
        "    mask_info_dict[\"index\"].append(img_idx)\n",
        "    mask_info_dict[\"frames\"].append(filepath)\n",
        "    mask_info_dict[\"eccentricity\"].append(best_region.eccentricity)\n",
        "    mask_info_dict[\"area\"].append(best_region.area)\n",
        "    mask_info_dict[\"coords\"].append(best_region.coords)\n",
        "    mask_info_dict[\"centroid_coords\"].append(best_region.centroid)\n",
        "    mask_info_dict[\"distance_centroid\"].append(min_distance)\n",
        "    mask_info_dict['mask'].append(filled_mask)\n",
        "\n",
        "  except:\n",
        "    filled_mask = np.zeros_like(labeled_img, dtype=np.uint8)\n",
        "    # Append the dictionary info\n",
        "    mask_info_dict[\"index\"].append(img_idx)\n",
        "    mask_info_dict[\"frames\"].append(filepath)\n",
        "    mask_info_dict[\"eccentricity\"].append(0)\n",
        "    mask_info_dict[\"area\"].append(0)\n",
        "    mask_info_dict[\"coords\"].append(0)\n",
        "    mask_info_dict[\"centroid_coords\"].append((0,0))\n",
        "    mask_info_dict[\"distance_centroid\"].append(0)\n",
        "    mask_info_dict['mask'].append(filled_mask)\n",
        "\n",
        "\n",
        "  return filled_mask, mask_info_dict"
      ]
    },
    {
      "cell_type": "code",
      "execution_count": null,
      "metadata": {
        "id": "HNv_U4xlGpkv"
      },
      "outputs": [],
      "source": [
        "def get_convex_hull_mask(labeled_img, region):\n",
        "\n",
        "    # Create a mask for smallest eccentricity region\n",
        "    binary_mask = np.zeros_like(labeled_img, dtype=np.uint8)\n",
        "    binary_mask[labeled_img == region.label] = 255\n",
        "\n",
        "    # Generate convex hull mask\n",
        "    hull_mask = convex_hull_image(binary_mask)\n",
        "\n",
        "    # Find contours in the binary mask\n",
        "    contours = measure.find_contours(hull_mask, level=0.5)\n",
        "\n",
        "    # Obtain the filled mask\n",
        "    filled_mask = np.zeros_like(binary_mask, dtype=np.uint8)\n",
        "\n",
        "    # Loop through each contour and fill it in the mask\n",
        "    for contour in contours:\n",
        "        # Convert contour coordinates to integer values\n",
        "        contour_points = contour.astype(int)\n",
        "\n",
        "        # Get the coordinates of the contour and fill the polygon\n",
        "        rr, cc = polygon(contour_points[:, 0], contour_points[:, 1], shape=filled_mask.shape)\n",
        "\n",
        "        # Set the region inside the polygon to 255 (foreground)\n",
        "        filled_mask[rr, cc] = 255  # Set filled region to white (255)\n",
        "\n",
        "    return filled_mask"
      ]
    },
    {
      "cell_type": "code",
      "execution_count": null,
      "metadata": {},
      "outputs": [],
      "source": [
        "def get_filled_mask(labeled_img, region):\n",
        "\n",
        "    # Create a mask for smallest eccentricity region\n",
        "    binary_mask = np.zeros_like(labeled_img, dtype=np.uint8)\n",
        "    binary_mask[labeled_img == region.label] = 255\n",
        "\n",
        "    # Find contours in the binary mask\n",
        "    contours = measure.find_contours(binary_mask, level=0.5)\n",
        "\n",
        "    # Obtain the filled mask\n",
        "    filled_mask = np.zeros_like(binary_mask, dtype=np.uint8)\n",
        "\n",
        "    # Loop through each contour and fill it in the mask\n",
        "    for contour in contours:\n",
        "        # Convert contour coordinates to integer values\n",
        "        contour_points = contour.astype(int)\n",
        "\n",
        "        # Get the coordinates of the contour and fill the polygon\n",
        "        rr, cc = polygon(contour_points[:, 0], contour_points[:, 1], shape=filled_mask.shape)\n",
        "\n",
        "        # Set the region inside the polygon to 255 (foreground)\n",
        "        filled_mask[rr, cc] = 255  # Set filled region to white (255)\n",
        "\n",
        "    return filled_mask"
      ]
    },
    {
      "cell_type": "code",
      "execution_count": null,
      "metadata": {},
      "outputs": [],
      "source": [
        "def store_evolution_in(lst):\n",
        "    \"\"\"Returns a callback function to store the evolution of the level sets in\n",
        "    the given list.\n",
        "    \"\"\"\n",
        "\n",
        "    def _store(x):\n",
        "        lst.append(np.copy(x))\n",
        "\n",
        "    return _store"
      ]
    },
    {
      "cell_type": "code",
      "execution_count": null,
      "metadata": {
        "id": "UJBgqqkU_-Zl"
      },
      "outputs": [],
      "source": [
        "# patient_thresholds = {\n",
        "#     'eccentricity': [0.8, 0.8, 0.8, 0.8, 0.8, 0.8, 0.7, 0.8, 0.8, 0.8, 0.8, 0.8, 0.8, 0.8, 0.8, 0.8, 0.8, 0.8, 0.8, 0.8,0.8, 0.9, 0.8, 0.8, 0.8, 0.8, 0.8, 0.8, 0.8, 0.8, 0.8, 0.8, 0.8, 0.8, 0.8, 0.8, 0.8, 0.8, 0.8, 0.8, 0.8, 0.8, 0.8, 0.8, 0.8],\n",
        "#     'area': [300, 300, 400, 300, 400, 400, 400, 500, 500, 300, 300, 400, 400, 300, 300, 400, 400, 400, 400, 300, 300, 300, 300, 400, 300, 400, 400, 400, 400, 300, 300, 400, 400, 300, 400, 400, 400, 300, 400, 300, 400, 300, 400, 300, 300],\n",
        "#     'seed_starter' : [(130, 130), (130,130), (130, 130), (120, 120), (130, 130), (130, 130), (130, 130), (130, 130), (130, 130), (130, 130), (130, 130), (130, 130), (130, 130), (130, 130), (130, 130), (130, 130), (130, 130), (120, 120), (130, 130), (130, 130), (130, 130), (130, 150), (130, 150), (130, 110), (130, 130), (110, 130), (130, 130), (130, 130), (130, 130), (130, 130), (130, 130), (130, 130), (130, 130), (130, 130), (130, 130), (130, 130), (130, 130), (130, 130), (130, 130), (130, 130), (130, 130), (120, 130), (130, 130), (130, 150), (130, 130)],\n",
        "#     # Decrese sigma gaus to make it less smooth and more pronounced\n",
        "#     'sigma_gaus': [0.05,0.05,0.05,0.05,0.05,0.05,0.05,0.05,0.05,0.05,0.05,0.05,0.05,0.05,0.05,0.05,0.05,0.05,0.05,0.05,0.05,0.05,0.05,0.05,0.05,0.05,0.05,0.05,0.05,0.05,0.05,0.05,0.05,0.05,0.05,0.05,0.05,0.05,0.05,0.05,0.05,0.05,0.05,0.05,0.05],\n",
        "#     # Increase clip limit to increase contrast\n",
        "#     'clip_limit': [0.03,0.03,0.03,0.03,0.03,0.03,0.03,0.03,0.03,0.03,0.03,0.03,0.03,0.03,0.03,0.03,0.03,0.03,0.03,0.07,0.03,0.07,0.03,0.03,0.03,0.03,0.03,0.03,0.03,0.03,0.03,0.03,0.03,0.03,0.03,0.03,0.03,0.03,0.03,0.03,0.03,0.03,0.03,0.03,0.03],\n",
        "#     # Increase sigma edge to get rid of some unwanted edges\n",
        "#     'sigma_edge': [6.30,6.3,6.30,5.00,6.00,5.00,5.00,5.00,5.00,5.00,5.00,5.00,5.00,5.00,6.00,6.00,6.00,6.00,6.00,6.0,6.0,6.50,6.00,6.00,6.00,6.00,6.00,6.00,6.00,6.00,6.00,6.00,6.00,6.00,6.00,6.00,6.00,6.00,6.00,6.00,6.00,6.50,6.00,5.50,5.50],\n",
        "#     'level': [0.7,0.7,0.7,0.7,0.7,0.7,0.7,0.7,0.7,0.7,0.7,0.7,0.7,0.7,0.7,0.7,0.7,0.7,0.7,0.7,0.7,0.7,0.7,0.7,0.7,0.7,0.7,0.7,0.7,0.7,0.7,0.7,0.7,0.7,0.7,0.7,0.7,0.7,0.7,0.7,0.7,0.7,0.7,0.7,0.7],\n",
        "#     'distance_centroid_th': [20,20,20,20,20,20,20,20,20,30,20,20,20,20,20,20,20,20,20,20,20,20,20,20,20,20,20,20,20,10,20,20,20,20,20,20,20,20,20,20,20,20,20,20,20],\n",
        "# }\n",
        "\n",
        "patient_ids = patient_filepaths_df['patient_id'].unique()\n",
        "\n",
        "patients_idxs = range(0, len(patient_ids))\n",
        "\n",
        "print(f\"Number of patients: {len(patient_ids)}\")"
      ]
    },
    {
      "cell_type": "code",
      "execution_count": null,
      "metadata": {
        "id": "G12rORbHogK8"
      },
      "outputs": [],
      "source": [
        "for patient_idx, patient_id in zip(patients_idxs,patient_ids):\n",
        "  print(patient_idx, patient_id)"
      ]
    },
    {
      "cell_type": "code",
      "execution_count": null,
      "metadata": {
        "id": "J-I7LcWAGpkw"
      },
      "outputs": [],
      "source": [
        "from IPython.display import display, Markdown\n",
        "import json\n",
        "# Number of columns for plotting\n",
        "num_cols = 10\n",
        "\n",
        "\n",
        "patient_mask_info = []\n",
        "\n",
        "with open(\"patient_thresholds.txt\", \"r\") as file:\n",
        "    patient_thresholds = json.load(file)\n",
        "\n",
        "\n",
        "for patient_idx, patient_id in zip(patients_idxs,patient_ids):\n",
        "  single_patient_filepaths = patient_filepaths_df.loc[patient_filepaths_df['patient_id'] == patient_id, 'dcm_image_filepath'].tolist()\n",
        "\n",
        "\n",
        "  # print(f\"Processing patient: {patient_id} with index of {patient_idx}\")\n",
        "\n",
        "  display(Markdown(f\"# Processing patient: **{patient_id}** with index of **{patient_idx}**\"))\n",
        "\n",
        "\n",
        "  img_processing_params = patient_thresholds[f\"patient_{patient_idx}\"]\n",
        "  print(img_processing_params)\n",
        "\n",
        "  mask_info_dict = {\n",
        "      \"index\": [],\n",
        "      \"frames\": [],\n",
        "      \"eccentricity\": [],\n",
        "      \"area\": [],\n",
        "      \"coords\": [],\n",
        "      \"centroid_coords\": [],\n",
        "      \"distance_centroid\": [],\n",
        "      \"mask\": []\n",
        "  }\n",
        "  \n",
        "  for batch_idx, batch_start in enumerate(range(0, len(single_patient_filepaths), num_cols)):\n",
        "    \n",
        "    batch_filepaths = single_patient_filepaths[batch_start:batch_start + num_cols]\n",
        "\n",
        "    num_imgs = len(batch_filepaths)\n",
        "    fig, axes = plt.subplots(1, num_imgs, figsize=(num_imgs * 2, 5))\n",
        "\n",
        "    if num_imgs == 1:\n",
        "        axes = [axes]  # Ensure axes is iterable when there's only one image\n",
        "\n",
        "    # Iterate over the filepaths in given batch\n",
        "    for batch_img_idx, img_filepath in enumerate(batch_filepaths):\n",
        "\n",
        "        # Get the original image index\n",
        "        img_idx = int(f\"{batch_idx}{batch_img_idx}\")\n",
        "\n",
        "        # For Google Colab only\n",
        "        #   img_filepath = img_filepath.replace(\"\\\\\", \"/\")\n",
        "        img_abs_filepath = os.path.join(user_handle, img_filepath)\n",
        "\n",
        "        # Get the 8 bit image\n",
        "        img_8bit = read_convert_dicom_img(img_abs_filepath)\n",
        "\n",
        "        # Get filtered image\n",
        "        img_filt = filters.gaussian(img_8bit, sigma=img_processing_params['sigma_gaus'])\n",
        "\n",
        "        # Apply radial contrast on image\n",
        "        img_contrast = apply_contrast_enhancement(img_filt, img_processing_params['clip_limit'])\n",
        "\n",
        "        # Snakes\n",
        "        try:\n",
        "            if img_processing_params['snakes_radius']:\n",
        "               snakes_radius_ex = img_processing_params['snakes_radius']\n",
        "        \n",
        "            # Initial level set\n",
        "            init_ls = segmentation.disk_level_set(img_contrast.shape, center=img_processing_params['seed_starter'], radius=img_processing_params['snakes_radius'])\n",
        "\n",
        "            # Store evolution of segmentation\n",
        "            evolution = []\n",
        "            callback = store_evolution_in(evolution)\n",
        "            ls = segmentation.morphological_chan_vese(img_contrast, num_iter=img_processing_params['snakes_iter'], init_level_set=init_ls, iter_callback=callback)\n",
        "\n",
        "            binary_mask = evolution[img_processing_params['snakes_iter']]  # ACWE result\n",
        "\n",
        "            # Get labeled image and regions\n",
        "            labeled_img, regions = get_labels_regions(binary_mask)\n",
        "\n",
        "            # Get the filled mask where left ventricle is defined\n",
        "            filled_mask, mask_info_dict = segment_left_ventricle_snakes(filepath=img_abs_filepath, labeled_img=labeled_img, regions=regions, mask_info_dict=mask_info_dict, img_idx=img_idx, seed_starter=img_processing_params['seed_starter'], eccentricity_th = img_processing_params['eccentricity'],distance_th=img_processing_params['distance_centroid_th'])\n",
        "\n",
        "        except:\n",
        "\n",
        "            # Get edges, contours, and binary mask\n",
        "            img_edges, contours, binary_mask = detect_edges_and_contours(img_contrast, sigma=img_processing_params['sigma_edge'], level=img_processing_params['level'])\n",
        "\n",
        "            # Get labeled image and regions\n",
        "            labeled_img, regions = get_labels_regions(binary_mask)\n",
        "            # print(regions)\n",
        "\n",
        "            # Get the filled mask where left ventricle is defined\n",
        "            filled_mask, mask_info_dict = segment_left_ventricle(filepath=img_abs_filepath, labeled_img=labeled_img, regions=regions, mask_info_dict=mask_info_dict, img_idx=img_idx, seed_starter=img_processing_params['seed_starter'], eccentricity_th = img_processing_params['eccentricity'], area_th=img_processing_params['area'], distance_th=img_processing_params['distance_centroid_th'])\n",
        "\n",
        "        # Plot the overlay\n",
        "        # Normalize original image for proper display (optional)\n",
        "        img_plot = (img_8bit - img_8bit.min()) / (img_8bit.max() - img_8bit.min())  # Normalize to [0,1] range\n",
        "\n",
        "        # Create an RGB version of the grayscale image\n",
        "        img_rgb = np.stack([img_plot] * 3, axis=-1)  # Convert grayscale to RGB (shape: HxWx3)\n",
        "\n",
        "        # Create a red-colored mask (overlay will be red where the mask is)\n",
        "        mask_rgb = np.zeros_like(img_rgb)  # Create an empty RGB image\n",
        "\n",
        "        mask_rgb[:, :, 0] = filled_mask  # Red channel\n",
        "\n",
        "        # Alpha blending\n",
        "        alpha = 0.05  # Transparency level\n",
        "        overlay = (img_rgb * (1 - alpha) + mask_rgb * alpha)\n",
        "\n",
        "        # Ensure values are in valid range [0,1] for display\n",
        "        overlay = np.clip(overlay, 0, 1)\n",
        "\n",
        "        # Plot processed image\n",
        "        centroid_plot = f\"C:{mask_info_dict['centroid_coords'][img_idx][0]:.0f},{mask_info_dict['centroid_coords'][img_idx][1]:.0f}\"\n",
        "        # axes[batch_img_idx].imshow(img_contrast, cmap=\"gray\", vmin=np.min(img_contrast), vmax=np.max(img_contrast))\n",
        "        # axes[batch_img_idx].imshow(binary_mask, cmap=\"gray\", vmin=np.min(binary_mask), vmax=np.max(binary_mask), alpha=0.5)\n",
        "        # axes[batch_img_idx].set(title=f\" Fr {img_idx}: E:{mask_info_dict['eccentricity'][img_idx]:.1f}, \\nA:{mask_info_dict['area'][img_idx]:.0f}, C:{centroid_plot}\")\n",
        "\n",
        "        # Plot final segmentation result\n",
        "        axes[batch_img_idx].imshow(overlay, cmap=\"gray\", vmin=np.min(overlay), vmax=np.max(overlay))\n",
        "        axes[batch_img_idx].imshow(binary_mask, cmap=\"gray\", vmin=np.min(binary_mask), vmax=np.max(binary_mask), alpha=0.2)\n",
        "        axes[batch_img_idx].set(title=f\" Fr {img_idx}: E:{mask_info_dict['eccentricity'][img_idx]:.1f}, \\nA:{mask_info_dict['area'][img_idx]:.0f}, DC: {mask_info_dict['distance_centroid'][img_idx]:.1f}, \\n{centroid_plot}\")\n",
        "\n",
        "    plt.tight_layout()\n",
        "    plt.show()\n",
        "patient_mask_info.append(mask_info_dict)\n"
      ]
    },
    {
      "cell_type": "code",
      "execution_count": null,
      "metadata": {
        "id": "NX7BA4Y0Htux"
      },
      "outputs": [],
      "source": [
        "# Saving patient thresholds text file\n",
        "\n",
        "patient_thresholds = {\n",
        "    f\"patient_{i}\": {\n",
        "        \"eccentricity\": ecc,\n",
        "        \"area\": area,\n",
        "        \"seed_starter\": seed,\n",
        "        \"sigma_gaus\": sigma_gaus,\n",
        "        \"clip_limit\": clip_limit,\n",
        "        \"sigma_edge\": sigma_edge,\n",
        "        \"level\": level,\n",
        "        \"distance_centroid_th\": distance_centroid\n",
        "    }\n",
        "    for i, (ecc, area, seed, sigma_gaus, clip_limit, sigma_edge, level, distance_centroid) in enumerate(zip(\n",
        "        patient_thresholds[\"eccentricity\"],\n",
        "        patient_thresholds[\"area\"],\n",
        "        patient_thresholds[\"seed_starter\"],\n",
        "        patient_thresholds[\"sigma_gaus\"],\n",
        "        patient_thresholds[\"clip_limit\"],\n",
        "        patient_thresholds[\"sigma_edge\"],\n",
        "        patient_thresholds[\"level\"],\n",
        "        patient_thresholds[\"distance_centroid_th\"]\n",
        "    ))\n",
        "}\n",
        "\n",
        "import json\n",
        "\n",
        "# Save dictionary to a text file\n",
        "with open(\"patient_thresholds.txt\", \"w\") as file:\n",
        "    json.dump(patient_thresholds, file, indent=4)\n",
        "\n",
        "# Load dictionary from the text file\n",
        "with open(\"patient_thresholds.txt\", \"r\") as file:\n",
        "    loaded_dict = json.load(file)\n",
        "\n"
      ]
    },
    {
      "cell_type": "code",
      "execution_count": null,
      "metadata": {
        "id": "IV8TKZexfhjr"
      },
      "outputs": [],
      "source": []
    },
    {
      "cell_type": "code",
      "execution_count": null,
      "metadata": {
        "id": "zIxCukmvNEr1"
      },
      "outputs": [],
      "source": []
    }
  ],
  "metadata": {
    "colab": {
      "provenance": []
    },
    "kernelspec": {
      "display_name": "biosignal-image-processing",
      "language": "python",
      "name": "python3"
    },
    "language_info": {
      "codemirror_mode": {
        "name": "ipython",
        "version": 3
      },
      "file_extension": ".py",
      "mimetype": "text/x-python",
      "name": "python",
      "nbconvert_exporter": "python",
      "pygments_lexer": "ipython3",
      "version": "3.7.16"
    }
  },
  "nbformat": 4,
  "nbformat_minor": 0
}
